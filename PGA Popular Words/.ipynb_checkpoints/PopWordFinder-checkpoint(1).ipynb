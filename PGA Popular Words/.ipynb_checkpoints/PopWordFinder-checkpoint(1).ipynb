{
 "cells": [
  {
   "cell_type": "code",
   "execution_count": 1,
   "id": "82787785",
   "metadata": {},
   "outputs": [],
   "source": [
    "#Set up imports"
   ]
  },
  {
   "cell_type": "code",
   "execution_count": 2,
   "id": "57a7c992",
   "metadata": {},
   "outputs": [],
   "source": [
    "import re\n",
    "import math\n",
    "import itertools"
   ]
  },
  {
   "cell_type": "code",
   "execution_count": 3,
   "id": "b506f100",
   "metadata": {},
   "outputs": [],
   "source": [
    "#Read the initial text and copy it onto the data variable\n",
    "#article is from Wikipedia \"Data Science\"\n",
    "#https://en.wikipedia.org/wiki/Data_science"
   ]
  },
  {
   "cell_type": "code",
   "execution_count": 4,
   "id": "a8676a67",
   "metadata": {},
   "outputs": [],
   "source": [
    "f = open(\"DataScienceArticle.txt\", \"r\")\n",
    "data = f.read()"
   ]
  },
  {
   "cell_type": "code",
   "execution_count": 5,
   "id": "bf7489c4",
   "metadata": {
    "scrolled": true
   },
   "outputs": [],
   "source": [
    "#Close input stream"
   ]
  },
  {
   "cell_type": "code",
   "execution_count": 6,
   "id": "23f49667",
   "metadata": {},
   "outputs": [],
   "source": [
    "f.close()"
   ]
  },
  {
   "cell_type": "code",
   "execution_count": 7,
   "id": "84139174",
   "metadata": {},
   "outputs": [],
   "source": [
    "#do the same with connectors.csv file and copy onto junk_words variable"
   ]
  },
  {
   "cell_type": "code",
   "execution_count": 8,
   "id": "484d14ca",
   "metadata": {},
   "outputs": [],
   "source": [
    "f = open(\"Connectors.csv\", \"r\")\n",
    "junk_words = f.read()\n",
    "f.close()"
   ]
  },
  {
   "cell_type": "code",
   "execution_count": 9,
   "id": "dd2d7b86",
   "metadata": {},
   "outputs": [],
   "source": [
    "#example of both our variables printed"
   ]
  },
  {
   "cell_type": "code",
   "execution_count": 10,
   "id": "e9d5092f",
   "metadata": {},
   "outputs": [],
   "source": [
    "#print code for test purposes, remove comment to see\n",
    "#print(data)"
   ]
  },
  {
   "cell_type": "code",
   "execution_count": 11,
   "id": "18e485e0",
   "metadata": {},
   "outputs": [],
   "source": [
    "#print code for test purposes, remove comment to see\n",
    "#print(junk_words)"
   ]
  },
  {
   "cell_type": "code",
   "execution_count": 12,
   "id": "176a24cb",
   "metadata": {},
   "outputs": [],
   "source": [
    "#Create regex clean out anything but alphabetical characters and whitespaces\n",
    "#the re.sub method will be used"
   ]
  },
  {
   "cell_type": "code",
   "execution_count": 13,
   "id": "34a3aff5",
   "metadata": {},
   "outputs": [],
   "source": [
    "#replace any character which is not a whitespace-type or an alphabetical character with an empty char\n",
    "data = re.sub(r'[^a-zA-Z\\s]','',data)\n",
    "#tabs and newlines are not needed\n",
    "#replace tabs with an empty character\n",
    "data = re.sub(r'[\\t]','',data)\n",
    "#replace newlines with whitespaces\n",
    "data = re.sub(r'[\\n]',' ',data)\n",
    "#finally, turn each character into lowercase (this is necessary for our junk words to interact properly with the data)\n",
    "data = data.lower()\n",
    "#print code for test purposes, remove comment to see\n",
    "#print(data)"
   ]
  },
  {
   "cell_type": "code",
   "execution_count": 14,
   "id": "2a586f94",
   "metadata": {},
   "outputs": [],
   "source": [
    "#turn both variables into arrays"
   ]
  },
  {
   "cell_type": "code",
   "execution_count": 15,
   "id": "6cf1f66e",
   "metadata": {},
   "outputs": [],
   "source": [
    "#turning junk_words to array\n",
    "#clean out newlines\n",
    "junk_words = re.sub(r'[\\n]','',junk_words)\n",
    "#split with \", \" as the delimiter\n",
    "junk_arr = junk_words.split(\", \")\n",
    "#print code for test purposes, remove comment to see\n",
    "#print(junk_arr)"
   ]
  },
  {
   "cell_type": "code",
   "execution_count": 16,
   "id": "392d611a",
   "metadata": {},
   "outputs": [],
   "source": [
    "#turning data into an array\n",
    "data_arr = data.split()\n",
    "#print code for test purposes, remove comment to see\n",
    "#print(data_arr)"
   ]
  },
  {
   "cell_type": "code",
   "execution_count": 17,
   "id": "e7590d5d",
   "metadata": {},
   "outputs": [],
   "source": [
    "#clear any instances of junk_arr from data_arr"
   ]
  },
  {
   "cell_type": "code",
   "execution_count": 18,
   "id": "a3e8a4b3",
   "metadata": {},
   "outputs": [],
   "source": [
    "for i in junk_arr:\n",
    "    if i in data_arr:\n",
    "        data_arr = [item for item in data_arr if item != i]\n",
    "        #print code for test purposes, remove comment to see\n",
    "        #print(\"Item found: \",i)\n",
    "#print code for test purposes, remove comment to see\n",
    "#print(data_arr)"
   ]
  },
  {
   "cell_type": "code",
   "execution_count": 23,
   "id": "8ee5a6ff",
   "metadata": {},
   "outputs": [
    {
     "name": "stdout",
     "output_type": "stream",
     "text": [
      "('data', 60)\n",
      "('science', 40)\n",
      "('statistics', 19)\n",
      "('it', 10)\n",
      "('information', 8)\n",
      "('field', 7)\n",
      "('knowledge', 7)\n",
      "('new', 6)\n",
      "('name', 6)\n",
      "('analysis', 5)\n",
      "('statistical', 5)\n",
      "('be', 4)\n",
      "('computer', 4)\n",
      "('he', 4)\n",
      "('interdisciplinary', 3)\n",
      "('computing', 3)\n",
      "('systems', 3)\n",
      "('insights', 3)\n",
      "('domain', 3)\n",
      "('application', 3)\n"
     ]
    }
   ],
   "source": [
    "#create counter variable and count out all instances of a word\n",
    "#referenced from the video \"3.07 counting words the verbose way\"\n",
    "#https://www.coursera.org/learn/uol-cm2015-programming-with-data/lecture/oERCG/3-07-counting-words-the-verbose-way\n",
    "\n",
    "counter = {}\n",
    "for i in data_arr:\n",
    "    if i in counter:\n",
    "        counter[i]+=1\n",
    "    else:\n",
    "        counter[i]=1\n",
    "        \n",
    "        \n",
    "#sort counter to display descending\n",
    "#code for sorting a dictionary in python referenced from CareerKarma article:\n",
    "#How to Sort a Dictionary by Value in Python, Example 1: Sort in Descending Order\n",
    "#https://careerkarma.com/blog/python-sort-a-dictionary-by-value/        \n",
    "counter = sorted(counter.items(), key=lambda x: x[1], reverse=True)\n",
    "\n",
    "#now get the top 1/5% of words\n",
    "percent = 1\n",
    "if len(counter) > 500:\n",
    "    percent = 0.01 \n",
    "else:\n",
    "    percent = 0.05\n",
    "threshold = math.ceil(percent*len(counter))\n",
    "\n",
    "#now print up to the threshold\n",
    "for i in range(0,threshold):\n",
    "    print(counter[i])"
   ]
  },
  {
   "cell_type": "code",
   "execution_count": null,
   "id": "5609da1c",
   "metadata": {},
   "outputs": [],
   "source": []
  }
 ],
 "metadata": {
  "kernelspec": {
   "display_name": "Python 3 (ipykernel)",
   "language": "python",
   "name": "python3"
  },
  "language_info": {
   "codemirror_mode": {
    "name": "ipython",
    "version": 3
   },
   "file_extension": ".py",
   "mimetype": "text/x-python",
   "name": "python",
   "nbconvert_exporter": "python",
   "pygments_lexer": "ipython3",
   "version": "3.10.9"
  }
 },
 "nbformat": 4,
 "nbformat_minor": 5
}
