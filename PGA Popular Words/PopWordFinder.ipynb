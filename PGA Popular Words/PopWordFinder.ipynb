{
 "cells": [
  {
   "cell_type": "code",
   "execution_count": 1,
   "id": "82787785",
   "metadata": {},
   "outputs": [],
   "source": [
    "#Set up imports"
   ]
  },
  {
   "cell_type": "code",
   "execution_count": 2,
   "id": "57a7c992",
   "metadata": {},
   "outputs": [],
   "source": [
    "import re\n",
    "import math"
   ]
  },
  {
   "cell_type": "code",
   "execution_count": 3,
   "id": "b506f100",
   "metadata": {},
   "outputs": [],
   "source": [
    "#Read the initial text and copy it onto the data variable\n",
    "#article is from Wikipedia \"Data Science\"\n",
    "#https://en.wikipedia.org/wiki/Data_science"
   ]
  },
  {
   "cell_type": "code",
   "execution_count": 4,
   "id": "a8676a67",
   "metadata": {},
   "outputs": [],
   "source": [
    "f = open(\"DataScienceArticle.txt\", \"r\")\n",
    "data = f.read()"
   ]
  },
  {
   "cell_type": "code",
   "execution_count": 5,
   "id": "bf7489c4",
   "metadata": {
    "scrolled": true
   },
   "outputs": [],
   "source": [
    "#Close input stream"
   ]
  },
  {
   "cell_type": "code",
   "execution_count": 6,
   "id": "23f49667",
   "metadata": {},
   "outputs": [],
   "source": [
    "f.close()"
   ]
  },
  {
   "cell_type": "code",
   "execution_count": 7,
   "id": "84139174",
   "metadata": {},
   "outputs": [],
   "source": [
    "#do the same with connectors.csv file and copy onto junk_words variable"
   ]
  },
  {
   "cell_type": "code",
   "execution_count": 8,
   "id": "484d14ca",
   "metadata": {},
   "outputs": [],
   "source": [
    "f = open(\"Connectors.csv\", \"r\")\n",
    "junk_words = f.read()\n",
    "f.close()"
   ]
  },
  {
   "cell_type": "code",
   "execution_count": 9,
   "id": "dd2d7b86",
   "metadata": {},
   "outputs": [],
   "source": [
    "#example of both our variables printed"
   ]
  },
  {
   "cell_type": "code",
   "execution_count": 10,
   "id": "e9d5092f",
   "metadata": {},
   "outputs": [
    {
     "name": "stdout",
     "output_type": "stream",
     "text": [
      "Data science is an interdisciplinary academic field [1] that uses statistics, scientific computing, scientific methods, processes, algorithms and systems to extract or extrapolate knowledge and insights from noisy, structured, and unstructured data.[2]\n",
      "\n",
      "Data science also integrates domain knowledge from the underlying application domain (e.g., natural sciences, information technology, and medicine).[3] Data science is multifaceted and can be described as a science, a research paradigm, a research method, a discipline, a workflow, and a profession.[4]\n",
      "\n",
      "Data science is a \"concept to unify statistics, data analysis, informatics, and their related methods\" to \"understand and analyze actual phenomena\" with data.[5] It uses techniques and theories drawn from many fields within the context of mathematics, statistics, computer science, information science, and domain knowledge.[6] However, data science is different from computer science and information science. Turing Award winner Jim Gray imagined data science as a \"fourth paradigm\" of science (empirical, theoretical, computational, and now data-driven) and asserted that \"everything about science is changing because of the impact of information technology\" and the data deluge.[7][8]\n",
      "\n",
      "A data scientist is a professional who creates programming code and combines it with statistical knowledge to create insights from data.[9]\n",
      "\n",
      "Foundations\n",
      "Data science is an interdisciplinary field[10] focused on extracting knowledge from typically large data sets and applying the knowledge and insights from that data to solve problems in a wide range of application domains.[11] The field encompasses preparing data for analysis, formulating data science problems, analyzing data, developing data-driven solutions, and presenting findings to inform high-level decisions in a broad range of application domains. As such, it incorporates skills from computer science, statistics, information science, mathematics, data visualization, information visualization, data sonification, data integration, graphic design, complex systems, communication and business.[12][13] Statistician Nathan Yau, drawing on Ben Fry, also links data science to humanвЂ“computer interaction: users should be able to intuitively control and explore data.[14][15] In 2015, the American Statistical Association identified database management, statistics and machine learning, and distributed and parallel systems as the three emerging foundational professional communities.[16]\n",
      "\n",
      "Relationship to statistics\n",
      "Many statisticians, including Nate Silver, have argued that data science is not a new field, but rather another name for statistics.[17] Others argue that data science is distinct from statistics because it focuses on problems and techniques unique to digital data.[18] Vasant Dhar writes that statistics emphasizes quantitative data and description. In contrast, data science deals with quantitative and qualitative data (e.g. from images, text, sensors, transactions, customer information, etc) and emphasizes prediction and action.[19] Andrew Gelman of Columbia University has described statistics as a nonessential part of data science.[20]\n",
      "\n",
      "Stanford professor David Donoho writes that data science is not distinguished from statistics by the size of datasets or use of computing and that many graduate programs misleadingly advertise their analytics and statistics training as the essence of a data-science program. He describes data science as an applied field growing out of traditional statistics.[21]\n",
      "\n",
      "Etymology\n",
      "Early usage\n",
      "In 1962, John Tukey described a field he called \"data analysis\", which resembles modern data science.[21] In 1985, in a lecture given to the Chinese Academy of Sciences in Beijing, C. F. Jeff Wu used the term \"data science\" for the first time as an alternative name for statistics.[22] Later, attendees at a 1992 statistics symposium at the University of Montpellier  II acknowledged the emergence of a new discipline focused on data of various origins and forms, combining established concepts and principles of statistics and data analysis with computing.[23][24]\n",
      "\n",
      "The term \"data science\" has been traced back to 1974, when Peter Naur proposed it as an alternative name to computer science.[6] In 1996, the International Federation of Classification Societies became the first conference to specifically feature data science as a topic.[6] However, the definition was still in flux. After the 1985 lecture at the Chinese Academy of Sciences in Beijing, in 1997 C. F. Jeff Wu again suggested that statistics should be renamed data science. He reasoned that a new name would help statistics shed inaccurate stereotypes, such as being synonymous with accounting or limited to describing data.[25] In 1998, Hayashi Chikio argued for data science as a new, interdisciplinary concept, with three aspects: data design, collection, and analysis.[24]\n",
      "\n",
      "During the 1990s, popular terms for the process of finding patterns in datasets (which were increasingly large) included \"knowledge discovery\" and \"data mining\".[6][26]\n",
      "\n",
      "Modern usage\n",
      "In 2012, technologists Thomas H. Davenport and DJ Patil declared \"Data Scientist: The Sexiest Job of the 21st Century\",[27] a catch-phrase that was picked up even by major-city newspapers like the New York Times[28] and the Boston Globe.[29] A decade later, they reaffirmed it, stating \"the job is more in demand than ever with employers\".[30]\n",
      "\n",
      "The modern conception of data science as an independent discipline is sometimes attributed to William S. Cleveland.[31] In a 2001 paper, he advocated an expansion of statistics beyond theory into technical areas; because this would significantly change the field, it warranted a new name.[26] \"Data science\" became more widely used in the next few years: in 2002, the Committee on Data for Science and Technology launched Data Science Journal. In 2003, Columbia University launched The Journal of Data Science.[26] In 2014, the American Statistical Association's Section on Statistical Learning and Data Mining changed its name to the Section on Statistical Learning and Data Science, reflecting the ascendant popularity of data science.[32]\n",
      "\n",
      "The professional title of \"data scientist\" has been attributed to DJ Patil and Jeff Hammerbacher in 2008.[33] Though it was used by the National Science Board in their 2005 report \"Long-Lived Digital Data Collections: Enabling Research and Education in the 21st Century\", it referred broadly to any key role in managing a digital data collection.[34]\n",
      "\n",
      "There is still no consensus on the definition of data science, and it is considered by some to be a buzzword.[35] Big data is a related marketing term.[36] Data scientists are responsible for breaking down big data into usable information and creating software and algorithms that help companies and organizations determine optimal operations.[37]\n"
     ]
    }
   ],
   "source": [
    "#print code for test purposes, remove comment to see\n",
    "print(data)"
   ]
  },
  {
   "cell_type": "code",
   "execution_count": 11,
   "id": "18e485e0",
   "metadata": {},
   "outputs": [
    {
     "name": "stdout",
     "output_type": "stream",
     "text": [
      "a, an, and, as, the, about, above, across, after, \n",
      "against, along, among, around, \n",
      "at, before, behind, between, \n",
      "beyond, but, by, concerning, \n",
      "despite, down, during, either, except, \n",
      "following, for, from, in, \n",
      "including, into, like, near, neither, nor, \n",
      "of, off, on, onto, or, \n",
      "out, over, past, plus, \n",
      "since, so, throughout, to, towards, \n",
      "under, until, up, upon, \n",
      "up to, with, within, without, yet, \n",
      "is, was, were, are, will, won't, that\n"
     ]
    }
   ],
   "source": [
    "#print code for test purposes, remove comment to see\n",
    "print(junk_words)"
   ]
  },
  {
   "cell_type": "code",
   "execution_count": 12,
   "id": "176a24cb",
   "metadata": {},
   "outputs": [],
   "source": [
    "#Create regex clean out anything but alphabetical characters and whitespaces\n",
    "#the re.sub method will be used"
   ]
  },
  {
   "cell_type": "code",
   "execution_count": 13,
   "id": "34a3aff5",
   "metadata": {},
   "outputs": [
    {
     "name": "stdout",
     "output_type": "stream",
     "text": [
      "data science is an interdisciplinary academic field  that uses statistics scientific computing scientific methods processes algorithms and systems to extract or extrapolate knowledge and insights from noisy structured and unstructured data  data science also integrates domain knowledge from the underlying application domain eg natural sciences information technology and medicine data science is multifaceted and can be described as a science a research paradigm a research method a discipline a workflow and a profession  data science is a concept to unify statistics data analysis informatics and their related methods to understand and analyze actual phenomena with data it uses techniques and theories drawn from many fields within the context of mathematics statistics computer science information science and domain knowledge however data science is different from computer science and information science turing award winner jim gray imagined data science as a fourth paradigm of science empirical theoretical computational and now datadriven and asserted that everything about science is changing because of the impact of information technology and the data deluge  a data scientist is a professional who creates programming code and combines it with statistical knowledge to create insights from data  foundations data science is an interdisciplinary field focused on extracting knowledge from typically large data sets and applying the knowledge and insights from that data to solve problems in a wide range of application domains the field encompasses preparing data for analysis formulating data science problems analyzing data developing datadriven solutions and presenting findings to inform highlevel decisions in a broad range of application domains as such it incorporates skills from computer science statistics information science mathematics data visualization information visualization data sonification data integration graphic design complex systems communication and business statistician nathan yau drawing on ben fry also links data science to humancomputer interaction users should be able to intuitively control and explore data in  the american statistical association identified database management statistics and machine learning and distributed and parallel systems as the three emerging foundational professional communities  relationship to statistics many statisticians including nate silver have argued that data science is not a new field but rather another name for statistics others argue that data science is distinct from statistics because it focuses on problems and techniques unique to digital data vasant dhar writes that statistics emphasizes quantitative data and description in contrast data science deals with quantitative and qualitative data eg from images text sensors transactions customer information etc and emphasizes prediction and action andrew gelman of columbia university has described statistics as a nonessential part of data science  stanford professor david donoho writes that data science is not distinguished from statistics by the size of datasets or use of computing and that many graduate programs misleadingly advertise their analytics and statistics training as the essence of a datascience program he describes data science as an applied field growing out of traditional statistics  etymology early usage in  john tukey described a field he called data analysis which resembles modern data science in  in a lecture given to the chinese academy of sciences in beijing c f jeff wu used the term data science for the first time as an alternative name for statistics later attendees at a  statistics symposium at the university of montpellier  ii acknowledged the emergence of a new discipline focused on data of various origins and forms combining established concepts and principles of statistics and data analysis with computing  the term data science has been traced back to  when peter naur proposed it as an alternative name to computer science in  the international federation of classification societies became the first conference to specifically feature data science as a topic however the definition was still in flux after the  lecture at the chinese academy of sciences in beijing in  c f jeff wu again suggested that statistics should be renamed data science he reasoned that a new name would help statistics shed inaccurate stereotypes such as being synonymous with accounting or limited to describing data in  hayashi chikio argued for data science as a new interdisciplinary concept with three aspects data design collection and analysis  during the s popular terms for the process of finding patterns in datasets which were increasingly large included knowledge discovery and data mining  modern usage in  technologists thomas h davenport and dj patil declared data scientist the sexiest job of the st century a catchphrase that was picked up even by majorcity newspapers like the new york times and the boston globe a decade later they reaffirmed it stating the job is more in demand than ever with employers  the modern conception of data science as an independent discipline is sometimes attributed to william s cleveland in a  paper he advocated an expansion of statistics beyond theory into technical areas because this would significantly change the field it warranted a new name data science became more widely used in the next few years in  the committee on data for science and technology launched data science journal in  columbia university launched the journal of data science in  the american statistical associations section on statistical learning and data mining changed its name to the section on statistical learning and data science reflecting the ascendant popularity of data science  the professional title of data scientist has been attributed to dj patil and jeff hammerbacher in  though it was used by the national science board in their  report longlived digital data collections enabling research and education in the st century it referred broadly to any key role in managing a digital data collection  there is still no consensus on the definition of data science and it is considered by some to be a buzzword big data is a related marketing term data scientists are responsible for breaking down big data into usable information and creating software and algorithms that help companies and organizations determine optimal operations\n"
     ]
    }
   ],
   "source": [
    "#replace any character which is not a whitespace-type or an alphabetical character with an empty char\n",
    "data = re.sub(r'[^a-zA-Z\\s]','',data)\n",
    "#tabs and newlines are not needed\n",
    "#replace tabs with an empty character\n",
    "data = re.sub(r'[\\t]','',data)\n",
    "#replace newlines with whitespaces\n",
    "data = re.sub(r'[\\n]',' ',data)\n",
    "#finally, turn each character into lowercase (this is necessary for our junk words to interact properly with the data)\n",
    "data = data.lower()\n",
    "#print code for test purposes, remove comment to see\n",
    "print(data)"
   ]
  },
  {
   "cell_type": "code",
   "execution_count": 14,
   "id": "2a586f94",
   "metadata": {},
   "outputs": [],
   "source": [
    "#turn both variables into arrays"
   ]
  },
  {
   "cell_type": "code",
   "execution_count": 20,
   "id": "6cf1f66e",
   "metadata": {},
   "outputs": [
    {
     "name": "stdout",
     "output_type": "stream",
     "text": [
      "['a', 'an', 'and', 'as', 'the', 'about', 'above', 'across', 'after', 'against', 'along', 'among', 'around', 'at', 'before', 'behind', 'between', 'beyond', 'but', 'by', 'concerning', 'despite', 'down', 'during', 'either', 'except', 'following', 'for', 'from', 'in', 'including', 'into', 'like', 'near', 'neither', 'nor', 'of', 'off', 'on', 'onto', 'or', 'out', 'over', 'past', 'plus', 'since', 'so', 'throughout', 'to', 'towards', 'under', 'until', 'up', 'upon', 'up to', 'with', 'within', 'without', 'yet', 'is', 'was', 'were', 'are', 'will', \"won't\", 'that']\n"
     ]
    }
   ],
   "source": [
    "#turning junk_words to array\n",
    "#clean out newlines\n",
    "junk_words = re.sub(r'[\\n]','',junk_words)\n",
    "#split with \", \" as the delimiter\n",
    "junk_arr = junk_words.split(\", \")\n",
    "#print code for test purposes, remove comment to see\n",
    "print(junk_arr)"
   ]
  },
  {
   "cell_type": "code",
   "execution_count": 16,
   "id": "392d611a",
   "metadata": {},
   "outputs": [
    {
     "name": "stdout",
     "output_type": "stream",
     "text": [
      "['data', 'science', 'is', 'an', 'interdisciplinary', 'academic', 'field', 'that', 'uses', 'statistics', 'scientific', 'computing', 'scientific', 'methods', 'processes', 'algorithms', 'and', 'systems', 'to', 'extract', 'or', 'extrapolate', 'knowledge', 'and', 'insights', 'from', 'noisy', 'structured', 'and', 'unstructured', 'data', 'data', 'science', 'also', 'integrates', 'domain', 'knowledge', 'from', 'the', 'underlying', 'application', 'domain', 'eg', 'natural', 'sciences', 'information', 'technology', 'and', 'medicine', 'data', 'science', 'is', 'multifaceted', 'and', 'can', 'be', 'described', 'as', 'a', 'science', 'a', 'research', 'paradigm', 'a', 'research', 'method', 'a', 'discipline', 'a', 'workflow', 'and', 'a', 'profession', 'data', 'science', 'is', 'a', 'concept', 'to', 'unify', 'statistics', 'data', 'analysis', 'informatics', 'and', 'their', 'related', 'methods', 'to', 'understand', 'and', 'analyze', 'actual', 'phenomena', 'with', 'data', 'it', 'uses', 'techniques', 'and', 'theories', 'drawn', 'from', 'many', 'fields', 'within', 'the', 'context', 'of', 'mathematics', 'statistics', 'computer', 'science', 'information', 'science', 'and', 'domain', 'knowledge', 'however', 'data', 'science', 'is', 'different', 'from', 'computer', 'science', 'and', 'information', 'science', 'turing', 'award', 'winner', 'jim', 'gray', 'imagined', 'data', 'science', 'as', 'a', 'fourth', 'paradigm', 'of', 'science', 'empirical', 'theoretical', 'computational', 'and', 'now', 'datadriven', 'and', 'asserted', 'that', 'everything', 'about', 'science', 'is', 'changing', 'because', 'of', 'the', 'impact', 'of', 'information', 'technology', 'and', 'the', 'data', 'deluge', 'a', 'data', 'scientist', 'is', 'a', 'professional', 'who', 'creates', 'programming', 'code', 'and', 'combines', 'it', 'with', 'statistical', 'knowledge', 'to', 'create', 'insights', 'from', 'data', 'foundations', 'data', 'science', 'is', 'an', 'interdisciplinary', 'field', 'focused', 'on', 'extracting', 'knowledge', 'from', 'typically', 'large', 'data', 'sets', 'and', 'applying', 'the', 'knowledge', 'and', 'insights', 'from', 'that', 'data', 'to', 'solve', 'problems', 'in', 'a', 'wide', 'range', 'of', 'application', 'domains', 'the', 'field', 'encompasses', 'preparing', 'data', 'for', 'analysis', 'formulating', 'data', 'science', 'problems', 'analyzing', 'data', 'developing', 'datadriven', 'solutions', 'and', 'presenting', 'findings', 'to', 'inform', 'highlevel', 'decisions', 'in', 'a', 'broad', 'range', 'of', 'application', 'domains', 'as', 'such', 'it', 'incorporates', 'skills', 'from', 'computer', 'science', 'statistics', 'information', 'science', 'mathematics', 'data', 'visualization', 'information', 'visualization', 'data', 'sonification', 'data', 'integration', 'graphic', 'design', 'complex', 'systems', 'communication', 'and', 'business', 'statistician', 'nathan', 'yau', 'drawing', 'on', 'ben', 'fry', 'also', 'links', 'data', 'science', 'to', 'humancomputer', 'interaction', 'users', 'should', 'be', 'able', 'to', 'intuitively', 'control', 'and', 'explore', 'data', 'in', 'the', 'american', 'statistical', 'association', 'identified', 'database', 'management', 'statistics', 'and', 'machine', 'learning', 'and', 'distributed', 'and', 'parallel', 'systems', 'as', 'the', 'three', 'emerging', 'foundational', 'professional', 'communities', 'relationship', 'to', 'statistics', 'many', 'statisticians', 'including', 'nate', 'silver', 'have', 'argued', 'that', 'data', 'science', 'is', 'not', 'a', 'new', 'field', 'but', 'rather', 'another', 'name', 'for', 'statistics', 'others', 'argue', 'that', 'data', 'science', 'is', 'distinct', 'from', 'statistics', 'because', 'it', 'focuses', 'on', 'problems', 'and', 'techniques', 'unique', 'to', 'digital', 'data', 'vasant', 'dhar', 'writes', 'that', 'statistics', 'emphasizes', 'quantitative', 'data', 'and', 'description', 'in', 'contrast', 'data', 'science', 'deals', 'with', 'quantitative', 'and', 'qualitative', 'data', 'eg', 'from', 'images', 'text', 'sensors', 'transactions', 'customer', 'information', 'etc', 'and', 'emphasizes', 'prediction', 'and', 'action', 'andrew', 'gelman', 'of', 'columbia', 'university', 'has', 'described', 'statistics', 'as', 'a', 'nonessential', 'part', 'of', 'data', 'science', 'stanford', 'professor', 'david', 'donoho', 'writes', 'that', 'data', 'science', 'is', 'not', 'distinguished', 'from', 'statistics', 'by', 'the', 'size', 'of', 'datasets', 'or', 'use', 'of', 'computing', 'and', 'that', 'many', 'graduate', 'programs', 'misleadingly', 'advertise', 'their', 'analytics', 'and', 'statistics', 'training', 'as', 'the', 'essence', 'of', 'a', 'datascience', 'program', 'he', 'describes', 'data', 'science', 'as', 'an', 'applied', 'field', 'growing', 'out', 'of', 'traditional', 'statistics', 'etymology', 'early', 'usage', 'in', 'john', 'tukey', 'described', 'a', 'field', 'he', 'called', 'data', 'analysis', 'which', 'resembles', 'modern', 'data', 'science', 'in', 'in', 'a', 'lecture', 'given', 'to', 'the', 'chinese', 'academy', 'of', 'sciences', 'in', 'beijing', 'c', 'f', 'jeff', 'wu', 'used', 'the', 'term', 'data', 'science', 'for', 'the', 'first', 'time', 'as', 'an', 'alternative', 'name', 'for', 'statistics', 'later', 'attendees', 'at', 'a', 'statistics', 'symposium', 'at', 'the', 'university', 'of', 'montpellier', 'ii', 'acknowledged', 'the', 'emergence', 'of', 'a', 'new', 'discipline', 'focused', 'on', 'data', 'of', 'various', 'origins', 'and', 'forms', 'combining', 'established', 'concepts', 'and', 'principles', 'of', 'statistics', 'and', 'data', 'analysis', 'with', 'computing', 'the', 'term', 'data', 'science', 'has', 'been', 'traced', 'back', 'to', 'when', 'peter', 'naur', 'proposed', 'it', 'as', 'an', 'alternative', 'name', 'to', 'computer', 'science', 'in', 'the', 'international', 'federation', 'of', 'classification', 'societies', 'became', 'the', 'first', 'conference', 'to', 'specifically', 'feature', 'data', 'science', 'as', 'a', 'topic', 'however', 'the', 'definition', 'was', 'still', 'in', 'flux', 'after', 'the', 'lecture', 'at', 'the', 'chinese', 'academy', 'of', 'sciences', 'in', 'beijing', 'in', 'c', 'f', 'jeff', 'wu', 'again', 'suggested', 'that', 'statistics', 'should', 'be', 'renamed', 'data', 'science', 'he', 'reasoned', 'that', 'a', 'new', 'name', 'would', 'help', 'statistics', 'shed', 'inaccurate', 'stereotypes', 'such', 'as', 'being', 'synonymous', 'with', 'accounting', 'or', 'limited', 'to', 'describing', 'data', 'in', 'hayashi', 'chikio', 'argued', 'for', 'data', 'science', 'as', 'a', 'new', 'interdisciplinary', 'concept', 'with', 'three', 'aspects', 'data', 'design', 'collection', 'and', 'analysis', 'during', 'the', 's', 'popular', 'terms', 'for', 'the', 'process', 'of', 'finding', 'patterns', 'in', 'datasets', 'which', 'were', 'increasingly', 'large', 'included', 'knowledge', 'discovery', 'and', 'data', 'mining', 'modern', 'usage', 'in', 'technologists', 'thomas', 'h', 'davenport', 'and', 'dj', 'patil', 'declared', 'data', 'scientist', 'the', 'sexiest', 'job', 'of', 'the', 'st', 'century', 'a', 'catchphrase', 'that', 'was', 'picked', 'up', 'even', 'by', 'majorcity', 'newspapers', 'like', 'the', 'new', 'york', 'times', 'and', 'the', 'boston', 'globe', 'a', 'decade', 'later', 'they', 'reaffirmed', 'it', 'stating', 'the', 'job', 'is', 'more', 'in', 'demand', 'than', 'ever', 'with', 'employers', 'the', 'modern', 'conception', 'of', 'data', 'science', 'as', 'an', 'independent', 'discipline', 'is', 'sometimes', 'attributed', 'to', 'william', 's', 'cleveland', 'in', 'a', 'paper', 'he', 'advocated', 'an', 'expansion', 'of', 'statistics', 'beyond', 'theory', 'into', 'technical', 'areas', 'because', 'this', 'would', 'significantly', 'change', 'the', 'field', 'it', 'warranted', 'a', 'new', 'name', 'data', 'science', 'became', 'more', 'widely', 'used', 'in', 'the', 'next', 'few', 'years', 'in', 'the', 'committee', 'on', 'data', 'for', 'science', 'and', 'technology', 'launched', 'data', 'science', 'journal', 'in', 'columbia', 'university', 'launched', 'the', 'journal', 'of', 'data', 'science', 'in', 'the', 'american', 'statistical', 'associations', 'section', 'on', 'statistical', 'learning', 'and', 'data', 'mining', 'changed', 'its', 'name', 'to', 'the', 'section', 'on', 'statistical', 'learning', 'and', 'data', 'science', 'reflecting', 'the', 'ascendant', 'popularity', 'of', 'data', 'science', 'the', 'professional', 'title', 'of', 'data', 'scientist', 'has', 'been', 'attributed', 'to', 'dj', 'patil', 'and', 'jeff', 'hammerbacher', 'in', 'though', 'it', 'was', 'used', 'by', 'the', 'national', 'science', 'board', 'in', 'their', 'report', 'longlived', 'digital', 'data', 'collections', 'enabling', 'research', 'and', 'education', 'in', 'the', 'st', 'century', 'it', 'referred', 'broadly', 'to', 'any', 'key', 'role', 'in', 'managing', 'a', 'digital', 'data', 'collection', 'there', 'is', 'still', 'no', 'consensus', 'on', 'the', 'definition', 'of', 'data', 'science', 'and', 'it', 'is', 'considered', 'by', 'some', 'to', 'be', 'a', 'buzzword', 'big', 'data', 'is', 'a', 'related', 'marketing', 'term', 'data', 'scientists', 'are', 'responsible', 'for', 'breaking', 'down', 'big', 'data', 'into', 'usable', 'information', 'and', 'creating', 'software', 'and', 'algorithms', 'that', 'help', 'companies', 'and', 'organizations', 'determine', 'optimal', 'operations']\n"
     ]
    }
   ],
   "source": [
    "#turning data into an array\n",
    "data_arr = data.split()\n",
    "#print code for test purposes, remove comment to see\n",
    "print(data_arr)"
   ]
  },
  {
   "cell_type": "code",
   "execution_count": 17,
   "id": "e7590d5d",
   "metadata": {},
   "outputs": [],
   "source": [
    "#clear any instances of junk_arr from data_arr"
   ]
  },
  {
   "cell_type": "code",
   "execution_count": 18,
   "id": "a3e8a4b3",
   "metadata": {},
   "outputs": [
    {
     "name": "stdout",
     "output_type": "stream",
     "text": [
      "['data', 'science', 'interdisciplinary', 'academic', 'field', 'uses', 'statistics', 'scientific', 'computing', 'scientific', 'methods', 'processes', 'algorithms', 'systems', 'extract', 'extrapolate', 'knowledge', 'insights', 'noisy', 'structured', 'unstructured', 'data', 'data', 'science', 'also', 'integrates', 'domain', 'knowledge', 'underlying', 'application', 'domain', 'eg', 'natural', 'sciences', 'information', 'technology', 'medicine', 'data', 'science', 'multifaceted', 'can', 'be', 'described', 'science', 'research', 'paradigm', 'research', 'method', 'discipline', 'workflow', 'profession', 'data', 'science', 'concept', 'unify', 'statistics', 'data', 'analysis', 'informatics', 'their', 'related', 'methods', 'understand', 'analyze', 'actual', 'phenomena', 'data', 'it', 'uses', 'techniques', 'theories', 'drawn', 'many', 'fields', 'context', 'mathematics', 'statistics', 'computer', 'science', 'information', 'science', 'domain', 'knowledge', 'however', 'data', 'science', 'different', 'computer', 'science', 'information', 'science', 'turing', 'award', 'winner', 'jim', 'gray', 'imagined', 'data', 'science', 'fourth', 'paradigm', 'science', 'empirical', 'theoretical', 'computational', 'now', 'datadriven', 'asserted', 'everything', 'science', 'changing', 'because', 'impact', 'information', 'technology', 'data', 'deluge', 'data', 'scientist', 'professional', 'who', 'creates', 'programming', 'code', 'combines', 'it', 'statistical', 'knowledge', 'create', 'insights', 'data', 'foundations', 'data', 'science', 'interdisciplinary', 'field', 'focused', 'extracting', 'knowledge', 'typically', 'large', 'data', 'sets', 'applying', 'knowledge', 'insights', 'data', 'solve', 'problems', 'wide', 'range', 'application', 'domains', 'field', 'encompasses', 'preparing', 'data', 'analysis', 'formulating', 'data', 'science', 'problems', 'analyzing', 'data', 'developing', 'datadriven', 'solutions', 'presenting', 'findings', 'inform', 'highlevel', 'decisions', 'broad', 'range', 'application', 'domains', 'such', 'it', 'incorporates', 'skills', 'computer', 'science', 'statistics', 'information', 'science', 'mathematics', 'data', 'visualization', 'information', 'visualization', 'data', 'sonification', 'data', 'integration', 'graphic', 'design', 'complex', 'systems', 'communication', 'business', 'statistician', 'nathan', 'yau', 'drawing', 'ben', 'fry', 'also', 'links', 'data', 'science', 'humancomputer', 'interaction', 'users', 'should', 'be', 'able', 'intuitively', 'control', 'explore', 'data', 'american', 'statistical', 'association', 'identified', 'database', 'management', 'statistics', 'machine', 'learning', 'distributed', 'parallel', 'systems', 'three', 'emerging', 'foundational', 'professional', 'communities', 'relationship', 'statistics', 'many', 'statisticians', 'nate', 'silver', 'have', 'argued', 'data', 'science', 'not', 'new', 'field', 'rather', 'another', 'name', 'statistics', 'others', 'argue', 'data', 'science', 'distinct', 'statistics', 'because', 'it', 'focuses', 'problems', 'techniques', 'unique', 'digital', 'data', 'vasant', 'dhar', 'writes', 'statistics', 'emphasizes', 'quantitative', 'data', 'description', 'contrast', 'data', 'science', 'deals', 'quantitative', 'qualitative', 'data', 'eg', 'images', 'text', 'sensors', 'transactions', 'customer', 'information', 'etc', 'emphasizes', 'prediction', 'action', 'andrew', 'gelman', 'columbia', 'university', 'has', 'described', 'statistics', 'nonessential', 'part', 'data', 'science', 'stanford', 'professor', 'david', 'donoho', 'writes', 'data', 'science', 'not', 'distinguished', 'statistics', 'size', 'datasets', 'use', 'computing', 'many', 'graduate', 'programs', 'misleadingly', 'advertise', 'their', 'analytics', 'statistics', 'training', 'essence', 'datascience', 'program', 'he', 'describes', 'data', 'science', 'applied', 'field', 'growing', 'traditional', 'statistics', 'etymology', 'early', 'usage', 'john', 'tukey', 'described', 'field', 'he', 'called', 'data', 'analysis', 'which', 'resembles', 'modern', 'data', 'science', 'lecture', 'given', 'chinese', 'academy', 'sciences', 'beijing', 'c', 'f', 'jeff', 'wu', 'used', 'term', 'data', 'science', 'first', 'time', 'alternative', 'name', 'statistics', 'later', 'attendees', 'statistics', 'symposium', 'university', 'montpellier', 'ii', 'acknowledged', 'emergence', 'new', 'discipline', 'focused', 'data', 'various', 'origins', 'forms', 'combining', 'established', 'concepts', 'principles', 'statistics', 'data', 'analysis', 'computing', 'term', 'data', 'science', 'has', 'been', 'traced', 'back', 'when', 'peter', 'naur', 'proposed', 'it', 'alternative', 'name', 'computer', 'science', 'international', 'federation', 'classification', 'societies', 'became', 'first', 'conference', 'specifically', 'feature', 'data', 'science', 'topic', 'however', 'definition', 'still', 'flux', 'lecture', 'chinese', 'academy', 'sciences', 'beijing', 'c', 'f', 'jeff', 'wu', 'again', 'suggested', 'statistics', 'should', 'be', 'renamed', 'data', 'science', 'he', 'reasoned', 'new', 'name', 'would', 'help', 'statistics', 'shed', 'inaccurate', 'stereotypes', 'such', 'being', 'synonymous', 'accounting', 'limited', 'describing', 'data', 'hayashi', 'chikio', 'argued', 'data', 'science', 'new', 'interdisciplinary', 'concept', 'three', 'aspects', 'data', 'design', 'collection', 'analysis', 's', 'popular', 'terms', 'process', 'finding', 'patterns', 'datasets', 'which', 'increasingly', 'large', 'included', 'knowledge', 'discovery', 'data', 'mining', 'modern', 'usage', 'technologists', 'thomas', 'h', 'davenport', 'dj', 'patil', 'declared', 'data', 'scientist', 'sexiest', 'job', 'st', 'century', 'catchphrase', 'picked', 'even', 'majorcity', 'newspapers', 'new', 'york', 'times', 'boston', 'globe', 'decade', 'later', 'they', 'reaffirmed', 'it', 'stating', 'job', 'more', 'demand', 'than', 'ever', 'employers', 'modern', 'conception', 'data', 'science', 'independent', 'discipline', 'sometimes', 'attributed', 'william', 's', 'cleveland', 'paper', 'he', 'advocated', 'expansion', 'statistics', 'theory', 'technical', 'areas', 'because', 'this', 'would', 'significantly', 'change', 'field', 'it', 'warranted', 'new', 'name', 'data', 'science', 'became', 'more', 'widely', 'used', 'next', 'few', 'years', 'committee', 'data', 'science', 'technology', 'launched', 'data', 'science', 'journal', 'columbia', 'university', 'launched', 'journal', 'data', 'science', 'american', 'statistical', 'associations', 'section', 'statistical', 'learning', 'data', 'mining', 'changed', 'its', 'name', 'section', 'statistical', 'learning', 'data', 'science', 'reflecting', 'ascendant', 'popularity', 'data', 'science', 'professional', 'title', 'data', 'scientist', 'has', 'been', 'attributed', 'dj', 'patil', 'jeff', 'hammerbacher', 'though', 'it', 'used', 'national', 'science', 'board', 'their', 'report', 'longlived', 'digital', 'data', 'collections', 'enabling', 'research', 'education', 'st', 'century', 'it', 'referred', 'broadly', 'any', 'key', 'role', 'managing', 'digital', 'data', 'collection', 'there', 'still', 'no', 'consensus', 'definition', 'data', 'science', 'it', 'considered', 'some', 'be', 'buzzword', 'big', 'data', 'related', 'marketing', 'term', 'data', 'scientists', 'responsible', 'breaking', 'big', 'data', 'usable', 'information', 'creating', 'software', 'algorithms', 'help', 'companies', 'organizations', 'determine', 'optimal', 'operations']\n"
     ]
    }
   ],
   "source": [
    "for i in junk_arr:\n",
    "    if i in data_arr:\n",
    "        data_arr = [item for item in data_arr if item != i]\n",
    "        #print code for test purposes, remove comment to see\n",
    "        #print(\"Item found: \",i)\n",
    "#print code for test purposes, remove comment to see\n",
    "print(data_arr)"
   ]
  },
  {
   "cell_type": "code",
   "execution_count": 19,
   "id": "8ee5a6ff",
   "metadata": {
    "scrolled": true
   },
   "outputs": [
    {
     "name": "stdout",
     "output_type": "stream",
     "text": [
      "('data', 60)\n",
      "('science', 40)\n",
      "('statistics', 19)\n",
      "('it', 10)\n",
      "('information', 8)\n",
      "('field', 7)\n",
      "('knowledge', 7)\n",
      "('new', 6)\n",
      "('name', 6)\n",
      "('analysis', 5)\n",
      "('statistical', 5)\n",
      "('be', 4)\n",
      "('computer', 4)\n",
      "('he', 4)\n",
      "('interdisciplinary', 3)\n",
      "('computing', 3)\n",
      "('systems', 3)\n",
      "('insights', 3)\n",
      "('domain', 3)\n",
      "('application', 3)\n"
     ]
    }
   ],
   "source": [
    "#create counter variable and count out all instances of a word\n",
    "#referenced from the video \"3.07 counting words the verbose way\"\n",
    "#https://www.coursera.org/learn/uol-cm2015-programming-with-data/lecture/oERCG/3-07-counting-words-the-verbose-way\n",
    "\n",
    "counter = {}\n",
    "for i in data_arr:\n",
    "    if i in counter:\n",
    "        counter[i]+=1\n",
    "    else:\n",
    "        counter[i]=1\n",
    "        \n",
    "        \n",
    "#sort counter to display descending\n",
    "#code for sorting a dictionary in python referenced from CareerKarma article:\n",
    "#How to Sort a Dictionary by Value in Python, Example 1: Sort in Descending Order\n",
    "#https://careerkarma.com/blog/python-sort-a-dictionary-by-value/        \n",
    "counter = sorted(counter.items(), key=lambda x: x[1], reverse=True)\n",
    "\n",
    "#now get the top 1/5% of words\n",
    "percent = 1\n",
    "if len(counter) > 500:\n",
    "    percent = 0.01 \n",
    "else:\n",
    "    percent = 0.05\n",
    "threshold = math.ceil(percent*len(counter))\n",
    "\n",
    "#now print up to the threshold\n",
    "for i in range(0,threshold):\n",
    "    print(counter[i])"
   ]
  },
  {
   "cell_type": "code",
   "execution_count": null,
   "id": "32fc7f93",
   "metadata": {},
   "outputs": [],
   "source": []
  }
 ],
 "metadata": {
  "kernelspec": {
   "display_name": "Python 3 (ipykernel)",
   "language": "python",
   "name": "python3"
  },
  "language_info": {
   "codemirror_mode": {
    "name": "ipython",
    "version": 3
   },
   "file_extension": ".py",
   "mimetype": "text/x-python",
   "name": "python",
   "nbconvert_exporter": "python",
   "pygments_lexer": "ipython3",
   "version": "3.10.9"
  }
 },
 "nbformat": 4,
 "nbformat_minor": 5
}
